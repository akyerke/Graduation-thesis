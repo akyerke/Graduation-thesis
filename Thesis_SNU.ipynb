{
  "cells": [
    {
      "cell_type": "code",
      "execution_count": null,
      "metadata": {
        "colab": {
          "base_uri": "https://localhost:8080/"
        },
        "id": "RH-0sJ-D129r",
        "outputId": "459f78f7-fd1f-4ff5-aaed-52ba993587dc"
      },
      "outputs": [
        {
          "output_type": "stream",
          "name": "stdout",
          "text": [
            "팔당댐 1017678\n",
            "남양주시(팔당댐) 1017690\n",
            "남양주시(팔당대교) 1018610\n",
            "팔당대교 1018611\n",
            "서울시(광진교) 1018640\n",
            "서울시(대곡교) 1018655\n",
            "서울시(대치교) 1018658\n",
            "서울시(청담대교) 1018662\n",
            "서울시(창동교) 1018669\n",
            "서울시(월계2교) 1018670\n",
            "서울시(중랑교) 1018675\n",
            "서울시(잠수교) 1018680\n",
            "서울시(한강대교) 1018683\n",
            "서울시(너부대교) 1018695\n",
            "서울시(오금교) 1018697\n",
            "서울시(신대방1교) 1018698\n",
            "서울시(행주대교) 1019630\n"
          ]
        }
      ],
      "source": [
        "SERVICE_KEY = \"AA8951AA-39F8-4E1D-A62E-3C82CDFC48D4\"\n",
        "\n",
        "import pandas as pd\n",
        "import numpy as np\n",
        "import requests\n",
        "import calendar\n",
        "import time\n",
        "import os\n",
        "\n",
        "os.makedirs(\"jamsu\", exist_ok=True)\n",
        "\n",
        "url = f'http://api.hrfco.go.kr/{SERVICE_KEY}/waterlevel/info.json'\n",
        "response = requests.get(url)\n",
        "\n",
        "data = response.json()\n",
        "for con in data['content']:\n",
        "    if '서울' in con['obsnm']:\n",
        "        print(con['obsnm'], con['wlobscd'])\n",
        "    if '팔당'  in con['obsnm']:\n",
        "        print(con['obsnm'], con['wlobscd'])\n",
        "\n",
        "bridge = {\n",
        "    \"서울시(잠수교)\": 1018680,\n",
        "}\n",
        "\n",
        "for name, code in bridge.items():\n",
        "    for year in range(2013, 2023):\n",
        "        ms, me = (1, 13)\n",
        "        for month in range(ms, me):\n",
        "            weekday, end = calendar.monthrange(year, month)\n",
        "            sdate = f\"{year}{month:02}010000\"\n",
        "            edate = f\"{year}{month:02}{end:02}2350\"\n",
        "            url = f\"http://api.hrfco.go.kr/{SERVICE_KEY}/waterlevel/list/10M/{code}/{sdate}/{edate}.json\"\n",
        "            response = requests.get(url)\n",
        "            df = pd.DataFrame(response.json()['content'])\n",
        "            df.to_csv(f\"jamsu/{year}{month:02}_{name}.csv\") ## CHANGE HERE\n",
        "            time.sleep(3)\n"
      ]
    },
    {
      "cell_type": "code",
      "execution_count": null,
      "metadata": {
        "colab": {
          "base_uri": "https://localhost:8080/"
        },
        "id": "tXZUj5qb17JN",
        "outputId": "cd5fe2f0-8eb1-4d05-fa03-e86d36826ab1"
      },
      "outputs": [
        {
          "output_type": "stream",
          "name": "stdout",
          "text": [
            "Mounted at /content/drive\n"
          ]
        }
      ],
      "source": [
        "from google.colab import drive\n",
        "drive.mount('/content/drive')"
      ]
    },
    {
      "cell_type": "code",
      "execution_count": null,
      "metadata": {
        "colab": {
          "base_uri": "https://localhost:8080/"
        },
        "id": "V-Tmhxk_We7U",
        "outputId": "87813cca-0ed1-42e8-c55a-02c856134965"
      },
      "outputs": [
        {
          "output_type": "stream",
          "name": "stdout",
          "text": [
            "/content\n"
          ]
        }
      ],
      "source": [
        "%cd ./content"
      ]
    },
    {
      "cell_type": "code",
      "execution_count": null,
      "metadata": {
        "colab": {
          "base_uri": "https://localhost:8080/"
        },
        "id": "fWe8QPPjWejT",
        "outputId": "832f2864-67d0-464b-e0dd-4a5e93f733d6"
      },
      "outputs": [
        {
          "output_type": "stream",
          "name": "stdout",
          "text": [
            "tar: datahj.tar: Cannot open: No such file or directory\n",
            "tar: Error is not recoverable: exiting now\n",
            "\u001b[H\u001b[2J"
          ]
        }
      ],
      "source": [
        "## using %cd and !ls !pwd go to the file directory\n",
        "!tar -xvf datahj.tar\n",
        "!clear"
      ]
    },
    {
      "cell_type": "code",
      "execution_count": null,
      "metadata": {
        "colab": {
          "base_uri": "https://localhost:8080/"
        },
        "id": "96wIgJfs2QBJ",
        "outputId": "ec9d29d4-4966-44f3-d209-74d55de47d0a"
      },
      "outputs": [
        {
          "output_type": "stream",
          "name": "stdout",
          "text": [
            "['201301_서울시(잠수교).csv', '201302_서울시(잠수교).csv', '201303_서울시(잠수교).csv', '201304_서울시(잠수교).csv', '201305_서울시(잠수교).csv', '201306_서울시(잠수교).csv', '201307_서울시(잠수교).csv', '201308_서울시(잠수교).csv', '201309_서울시(잠수교).csv', '201310_서울시(잠수교).csv', '201311_서울시(잠수교).csv', '201312_서울시(잠수교).csv', '201401_서울시(잠수교).csv', '201402_서울시(잠수교).csv', '201403_서울시(잠수교).csv', '201404_서울시(잠수교).csv', '201405_서울시(잠수교).csv', '201406_서울시(잠수교).csv', '201407_서울시(잠수교).csv', '201408_서울시(잠수교).csv', '201409_서울시(잠수교).csv', '201410_서울시(잠수교).csv', '201411_서울시(잠수교).csv', '201412_서울시(잠수교).csv', '201501_서울시(잠수교).csv', '201502_서울시(잠수교).csv', '201503_서울시(잠수교).csv', '201504_서울시(잠수교).csv', '201505_서울시(잠수교).csv', '201506_서울시(잠수교).csv', '201507_서울시(잠수교).csv', '201508_서울시(잠수교).csv', '201509_서울시(잠수교).csv', '201510_서울시(잠수교).csv', '201511_서울시(잠수교).csv', '201512_서울시(잠수교).csv', '201601_서울시(잠수교).csv', '201602_서울시(잠수교).csv', '201603_서울시(잠수교).csv', '201604_서울시(잠수교).csv', '201605_서울시(잠수교).csv', '201606_서울시(잠수교).csv', '201607_서울시(잠수교).csv', '201608_서울시(잠수교).csv', '201609_서울시(잠수교).csv', '201610_서울시(잠수교).csv', '201611_서울시(잠수교).csv', '201612_서울시(잠수교).csv', '201701_서울시(잠수교).csv', '201702_서울시(잠수교).csv', '201703_서울시(잠수교).csv', '201704_서울시(잠수교).csv', '201705_서울시(잠수교).csv', '201706_서울시(잠수교).csv', '201707_서울시(잠수교).csv', '201708_서울시(잠수교).csv', '201709_서울시(잠수교).csv', '201710_서울시(잠수교).csv', '201711_서울시(잠수교).csv', '201712_서울시(잠수교).csv', '201801_서울시(잠수교).csv', '201802_서울시(잠수교).csv', '201803_서울시(잠수교).csv', '201804_서울시(잠수교).csv', '201805_서울시(잠수교).csv', '201806_서울시(잠수교).csv', '201807_서울시(잠수교).csv', '201808_서울시(잠수교).csv', '201809_서울시(잠수교).csv', '201810_서울시(잠수교).csv', '201811_서울시(잠수교).csv', '201812_서울시(잠수교).csv', '201901_서울시(잠수교).csv', '201902_서울시(잠수교).csv', '201903_서울시(잠수교).csv', '201904_서울시(잠수교).csv', '201905_서울시(잠수교).csv', '201906_서울시(잠수교).csv', '201907_서울시(잠수교).csv', '201908_서울시(잠수교).csv', '201909_서울시(잠수교).csv', '201910_서울시(잠수교).csv', '201911_서울시(잠수교).csv', '201912_서울시(잠수교).csv', '202001_서울시(잠수교).csv', '202002_서울시(잠수교).csv', '202003_서울시(잠수교).csv', '202004_서울시(잠수교).csv', '202005_서울시(잠수교).csv', '202006_서울시(잠수교).csv', '202007_서울시(잠수교).csv', '202008_서울시(잠수교).csv', '202009_서울시(잠수교).csv', '202010_서울시(잠수교).csv', '202011_서울시(잠수교).csv', '202012_서울시(잠수교).csv', '202101_서울시(잠수교).csv', '202102_서울시(잠수교).csv', '202103_서울시(잠수교).csv', '202104_서울시(잠수교).csv', '202105_서울시(잠수교).csv', '202106_서울시(잠수교).csv', '202107_서울시(잠수교).csv', '202108_서울시(잠수교).csv', '202109_서울시(잠수교).csv', '202110_서울시(잠수교).csv', '202111_서울시(잠수교).csv', '202112_서울시(잠수교).csv', '202201_서울시(잠수교).csv', '202202_서울시(잠수교).csv', '202203_서울시(잠수교).csv', '202204_서울시(잠수교).csv', '202205_서울시(잠수교).csv', '202206_서울시(잠수교).csv', '202207_서울시(잠수교).csv', '202208_서울시(잠수교).csv', '202209_서울시(잠수교).csv', '202210_서울시(잠수교).csv', '202211_서울시(잠수교).csv', '202212_서울시(잠수교).csv']\n",
            "Missing Files: []\n"
          ]
        }
      ],
      "source": [
        "import pandas as pd\n",
        "import os\n",
        "from datetime import datetime, timedelta\n",
        "\n",
        "files_in_directory = os.listdir('jamsu') ### CHANGE HERE\n",
        "\n",
        "csv_files = [file for file in files_in_directory if '잠수교' in file] ### CHANGE HERE\n",
        "csv_files.sort()\n",
        "print(csv_files)\n",
        "\n",
        "\n",
        "actual_files = [file[:6] for file in csv_files]\n",
        "\n",
        "# Generate a list of all year-month from 2012-01 to 2022-12\n",
        "start_date = datetime(2013, 1, 1)\n",
        "end_date = datetime(2022, 12, 31)\n",
        "delta = timedelta(days=1)\n",
        "\n",
        "expected_files = []\n",
        "while start_date <= end_date:\n",
        "    year_month_str = start_date.strftime('%Y%m')\n",
        "    if year_month_str not in expected_files:\n",
        "        expected_files.append(year_month_str)\n",
        "    start_date += delta\n",
        "\n",
        "# Check for missing files\n",
        "missing_files = [ym for ym in expected_files if ym not in actual_files]\n",
        "\n",
        "print('Missing Files:', missing_files)"
      ]
    },
    {
      "cell_type": "code",
      "source": [
        "import pandas as pd\n",
        "for filename in csv_files:\n",
        "    df = pd.read_csv('jamsu/' + filename)\n",
        "    df = df.sort_values(\"ymdhm\", axis=0, ascending=True)\n",
        "    df.to_csv('jamsu/' + filename)"
      ],
      "metadata": {
        "id": "TC7t0NQH1LDm"
      },
      "execution_count": null,
      "outputs": []
    },
    {
      "cell_type": "code",
      "execution_count": null,
      "metadata": {
        "colab": {
          "base_uri": "https://localhost:8080/",
          "height": 206
        },
        "id": "EuvhCR8p2gxE",
        "outputId": "86cdc1c9-2d1f-4665-f5f2-6657b0a28edb"
      },
      "outputs": [
        {
          "output_type": "execute_result",
          "data": {
            "text/plain": [
              "                ymdhm    wl\n",
              "0 2013-01-01 00:00:00  3.77\n",
              "1 2013-01-01 00:10:00  3.74\n",
              "2 2013-01-01 00:20:00  3.72\n",
              "3 2013-01-01 00:30:00  3.69\n",
              "4 2013-01-01 00:40:00  3.68"
            ],
            "text/html": [
              "\n",
              "  <div id=\"df-0b21148b-3d5d-43d5-8462-16fcbff1bcf4\">\n",
              "    <div class=\"colab-df-container\">\n",
              "      <div>\n",
              "<style scoped>\n",
              "    .dataframe tbody tr th:only-of-type {\n",
              "        vertical-align: middle;\n",
              "    }\n",
              "\n",
              "    .dataframe tbody tr th {\n",
              "        vertical-align: top;\n",
              "    }\n",
              "\n",
              "    .dataframe thead th {\n",
              "        text-align: right;\n",
              "    }\n",
              "</style>\n",
              "<table border=\"1\" class=\"dataframe\">\n",
              "  <thead>\n",
              "    <tr style=\"text-align: right;\">\n",
              "      <th></th>\n",
              "      <th>ymdhm</th>\n",
              "      <th>wl</th>\n",
              "    </tr>\n",
              "  </thead>\n",
              "  <tbody>\n",
              "    <tr>\n",
              "      <th>0</th>\n",
              "      <td>2013-01-01 00:00:00</td>\n",
              "      <td>3.77</td>\n",
              "    </tr>\n",
              "    <tr>\n",
              "      <th>1</th>\n",
              "      <td>2013-01-01 00:10:00</td>\n",
              "      <td>3.74</td>\n",
              "    </tr>\n",
              "    <tr>\n",
              "      <th>2</th>\n",
              "      <td>2013-01-01 00:20:00</td>\n",
              "      <td>3.72</td>\n",
              "    </tr>\n",
              "    <tr>\n",
              "      <th>3</th>\n",
              "      <td>2013-01-01 00:30:00</td>\n",
              "      <td>3.69</td>\n",
              "    </tr>\n",
              "    <tr>\n",
              "      <th>4</th>\n",
              "      <td>2013-01-01 00:40:00</td>\n",
              "      <td>3.68</td>\n",
              "    </tr>\n",
              "  </tbody>\n",
              "</table>\n",
              "</div>\n",
              "      <button class=\"colab-df-convert\" onclick=\"convertToInteractive('df-0b21148b-3d5d-43d5-8462-16fcbff1bcf4')\"\n",
              "              title=\"Convert this dataframe to an interactive table.\"\n",
              "              style=\"display:none;\">\n",
              "        \n",
              "  <svg xmlns=\"http://www.w3.org/2000/svg\" height=\"24px\"viewBox=\"0 0 24 24\"\n",
              "       width=\"24px\">\n",
              "    <path d=\"M0 0h24v24H0V0z\" fill=\"none\"/>\n",
              "    <path d=\"M18.56 5.44l.94 2.06.94-2.06 2.06-.94-2.06-.94-.94-2.06-.94 2.06-2.06.94zm-11 1L8.5 8.5l.94-2.06 2.06-.94-2.06-.94L8.5 2.5l-.94 2.06-2.06.94zm10 10l.94 2.06.94-2.06 2.06-.94-2.06-.94-.94-2.06-.94 2.06-2.06.94z\"/><path d=\"M17.41 7.96l-1.37-1.37c-.4-.4-.92-.59-1.43-.59-.52 0-1.04.2-1.43.59L10.3 9.45l-7.72 7.72c-.78.78-.78 2.05 0 2.83L4 21.41c.39.39.9.59 1.41.59.51 0 1.02-.2 1.41-.59l7.78-7.78 2.81-2.81c.8-.78.8-2.07 0-2.86zM5.41 20L4 18.59l7.72-7.72 1.47 1.35L5.41 20z\"/>\n",
              "  </svg>\n",
              "      </button>\n",
              "      \n",
              "  <style>\n",
              "    .colab-df-container {\n",
              "      display:flex;\n",
              "      flex-wrap:wrap;\n",
              "      gap: 12px;\n",
              "    }\n",
              "\n",
              "    .colab-df-convert {\n",
              "      background-color: #E8F0FE;\n",
              "      border: none;\n",
              "      border-radius: 50%;\n",
              "      cursor: pointer;\n",
              "      display: none;\n",
              "      fill: #1967D2;\n",
              "      height: 32px;\n",
              "      padding: 0 0 0 0;\n",
              "      width: 32px;\n",
              "    }\n",
              "\n",
              "    .colab-df-convert:hover {\n",
              "      background-color: #E2EBFA;\n",
              "      box-shadow: 0px 1px 2px rgba(60, 64, 67, 0.3), 0px 1px 3px 1px rgba(60, 64, 67, 0.15);\n",
              "      fill: #174EA6;\n",
              "    }\n",
              "\n",
              "    [theme=dark] .colab-df-convert {\n",
              "      background-color: #3B4455;\n",
              "      fill: #D2E3FC;\n",
              "    }\n",
              "\n",
              "    [theme=dark] .colab-df-convert:hover {\n",
              "      background-color: #434B5C;\n",
              "      box-shadow: 0px 1px 3px 1px rgba(0, 0, 0, 0.15);\n",
              "      filter: drop-shadow(0px 1px 2px rgba(0, 0, 0, 0.3));\n",
              "      fill: #FFFFFF;\n",
              "    }\n",
              "  </style>\n",
              "\n",
              "      <script>\n",
              "        const buttonEl =\n",
              "          document.querySelector('#df-0b21148b-3d5d-43d5-8462-16fcbff1bcf4 button.colab-df-convert');\n",
              "        buttonEl.style.display =\n",
              "          google.colab.kernel.accessAllowed ? 'block' : 'none';\n",
              "\n",
              "        async function convertToInteractive(key) {\n",
              "          const element = document.querySelector('#df-0b21148b-3d5d-43d5-8462-16fcbff1bcf4');\n",
              "          const dataTable =\n",
              "            await google.colab.kernel.invokeFunction('convertToInteractive',\n",
              "                                                     [key], {});\n",
              "          if (!dataTable) return;\n",
              "\n",
              "          const docLinkHtml = 'Like what you see? Visit the ' +\n",
              "            '<a target=\"_blank\" href=https://colab.research.google.com/notebooks/data_table.ipynb>data table notebook</a>'\n",
              "            + ' to learn more about interactive tables.';\n",
              "          element.innerHTML = '';\n",
              "          dataTable['output_type'] = 'display_data';\n",
              "          await google.colab.output.renderOutput(dataTable, element);\n",
              "          const docLink = document.createElement('div');\n",
              "          docLink.innerHTML = docLinkHtml;\n",
              "          element.appendChild(docLink);\n",
              "        }\n",
              "      </script>\n",
              "    </div>\n",
              "  </div>\n",
              "  "
            ]
          },
          "metadata": {},
          "execution_count": 6
        }
      ],
      "source": [
        "list_of_dataframes = []\n",
        "\n",
        "for filename in csv_files:\n",
        "    df = pd.read_csv('jamsu/' + filename)\n",
        "    df = df.drop(columns=['fw', 'links'])  # dropping unnecessary columns\n",
        "    list_of_dataframes.append(df)\n",
        "\n",
        "final_df = pd.concat(list_of_dataframes, ignore_index=True)\n",
        "final_df = final_df[['ymdhm', 'wl']]\n",
        "final_df['ymdhm'] = pd.to_datetime(final_df['ymdhm'], format='%Y%m%d%H%M')\n",
        "\n",
        "final_df['wl'] = pd.to_numeric(final_df['wl'], errors='coerce')\n",
        "final_df['wl'] = final_df['wl'].fillna(final_df['wl'].mean())\n",
        "\n",
        "final_df.head()"
      ]
    },
    {
      "cell_type": "code",
      "execution_count": null,
      "metadata": {
        "id": "nXiBThcc2lPP"
      },
      "outputs": [],
      "source": [
        "import torch\n",
        "import numpy as np\n",
        "from torch.utils.data import Dataset, DataLoader\n",
        "\n",
        "train_df = final_df[final_df['ymdhm'] < '2021-01-01']\n",
        "valid_df = final_df[(final_df['ymdhm'] >= '2021-01-01') & (final_df['ymdhm'] < '2022-01-01')]\n",
        "test_df = final_df[final_df['ymdhm'] >= '2022-01-01']\n",
        "\n",
        "def create_sequences(data, labels, seq_length):\n",
        "    xs = []\n",
        "    ys = []\n",
        "    ls = []\n",
        "    for i in range(len(data) - seq_length):\n",
        "        x = data.iloc[i:(i+seq_length)]\n",
        "        y = data.iloc[i+seq_length]\n",
        "        l = labels.iloc[i:(i+seq_length)]\n",
        "        xs.append(x)\n",
        "        ys.append(y)\n",
        "        ls.append(l)\n",
        "\n",
        "    return np.array(xs), np.array(ys), np.array(ls)\n",
        "\n",
        "seq_length = 100  # for example, use the past 10 observations to predict the next one\n",
        "\n",
        "X_train, y_train, ls = create_sequences(train_df['wl'], train_df['wl'], seq_length)\n",
        "X_valid, y_valid, ls  = create_sequences(valid_df['wl'], train_df['wl'], seq_length)\n",
        "X_test, y_test, ls  = create_sequences(test_df['wl'], train_df['wl'], seq_length)\n",
        "\n",
        "class WaterLevelDataset(Dataset):\n",
        "    def __init__(self, X_data, y_data):\n",
        "        self.X_data = X_data\n",
        "        self.y_data = y_data\n",
        "\n",
        "    def __len__(self):\n",
        "        return len(self.X_data)\n",
        "\n",
        "    def __getitem__(self, i):\n",
        "        return self.X_data[i], self.y_data[i]\n",
        "\n",
        "\n",
        "train_dataset = WaterLevelDataset(torch.from_numpy(X_train).float(), torch.from_numpy(y_train).float())\n",
        "valid_dataset = WaterLevelDataset(torch.from_numpy(X_valid).float(), torch.from_numpy(y_valid).float())\n",
        "test_dataset = WaterLevelDataset(torch.from_numpy(X_test).float(), torch.from_numpy(y_test).float())\n",
        "\n",
        "train_loader = DataLoader(train_dataset, batch_size=32, shuffle=False)\n",
        "valid_loader = DataLoader(valid_dataset, batch_size=32, shuffle=False)\n",
        "test_loader = DataLoader(test_dataset, batch_size=1, shuffle=False)  # batch size of 1 for testing\n"
      ]
    },
    {
      "cell_type": "code",
      "source": [
        "def create_sequences(data, labels, seq_length):\n",
        "    xs = []\n",
        "    ys = []\n",
        "    ls = []\n",
        "    for i in range(len(data) - seq_length):\n",
        "        x = data.iloc[i:(i+seq_length)]\n",
        "        y = data.iloc[i+seq_length]\n",
        "        l = labels.iloc[i+seq_length]\n",
        "        xs.append(x)\n",
        "        ys.append(y)\n",
        "        ls.append(l)\n",
        "\n",
        "    return np.array(xs), np.array(ys), np.array(ls)\n"
      ],
      "metadata": {
        "id": "xqH3BcCQ913Y"
      },
      "execution_count": null,
      "outputs": []
    },
    {
      "cell_type": "code",
      "execution_count": null,
      "metadata": {
        "id": "0up7liuq2nTS"
      },
      "outputs": [],
      "source": [
        "import torch.nn as nn\n",
        "\n",
        "class LSTMModel(nn.Module):\n",
        "    def __init__(self, input_dim, hidden_dim, layer_dim, output_dim):\n",
        "        super(LSTMModel, self).__init__()\n",
        "\n",
        "        # Defining the number of layers and the nodes in each layer\n",
        "        self.hidden_dim = hidden_dim\n",
        "        self.layer_dim = layer_dim\n",
        "\n",
        "        # LSTM layers\n",
        "        self.lstm = nn.LSTM(input_dim, hidden_dim, layer_dim, batch_first=True)\n",
        "\n",
        "        # Fully connected layer\n",
        "        self.fc = nn.Linear(hidden_dim, output_dim)\n",
        "\n",
        "    def forward(self, x):\n",
        "        # Initializing hidden state for first input with zeros\n",
        "        h0 = torch.zeros(self.layer_dim, x.size(0), self.hidden_dim).requires_grad_().to(device)\n",
        "\n",
        "        # Initializing cell state for first input with zeros\n",
        "        c0 = torch.zeros(self.layer_dim, x.size(0), self.hidden_dim).requires_grad_().to(device)\n",
        "\n",
        "        # We need to detach as we are doing truncated backpropagation through time (BPTT)\n",
        "        # If we don't, we'll backprop all the way to the start even after going through another batch\n",
        "        out, (hn, cn) = self.lstm(x, (h0.detach(), c0.detach()))\n",
        "\n",
        "        # Indexing hidden state of last time step\n",
        "        # out.size() --> (batch_size, seq_length, hidden_size)\n",
        "        # out[:, -1, :] --> (batch_size, hidden_size) --> just want last time step hidden states!\n",
        "        out = self.fc(out[:, -1, :])\n",
        "\n",
        "        return out\n"
      ]
    },
    {
      "cell_type": "code",
      "execution_count": null,
      "metadata": {
        "id": "HU11l7qv2pf6"
      },
      "outputs": [],
      "source": [
        "class GRUModel(nn.Module):\n",
        "    def __init__(self, input_dim, hidden_dim, layer_dim, output_dim):\n",
        "        super(GRUModel, self).__init__()\n",
        "\n",
        "        # Defining the number of layers and the nodes in each layer\n",
        "        self.hidden_dim = hidden_dim\n",
        "        self.layer_dim = layer_dim\n",
        "\n",
        "        # GRU layers\n",
        "        self.gru = nn.GRU(input_dim, hidden_dim, layer_dim, batch_first=True)\n",
        "\n",
        "        # Fully connected layer\n",
        "        self.fc = nn.Linear(hidden_dim, output_dim)\n",
        "\n",
        "    def forward(self, x):\n",
        "        # Initializing hidden state for first input with zeros\n",
        "        h0 = torch.zeros(self.layer_dim, x.size(0), self.hidden_dim).requires_grad_().to(device)\n",
        "\n",
        "        # We need to detach as we are doing truncated backpropagation through time (BPTT)\n",
        "        # If we don't, we'll backprop all the way to the start even after going through another batch\n",
        "        out, hn = self.gru(x, h0.detach())\n",
        "\n",
        "        # Indexing hidden state of last time step\n",
        "        # out.size() --> 100, 10, 32 --> 100 is batch size, 10 is sequence length, 32 is hidden layer dimension\n",
        "        # out[:, -1, :] --> 100, 32 --> Just want last time step hidden states!\n",
        "        out = self.fc(out[:, -1, :])\n",
        "\n",
        "        return out\n"
      ]
    },
    {
      "cell_type": "code",
      "execution_count": null,
      "metadata": {
        "id": "ZEnfxlH42rk_"
      },
      "outputs": [],
      "source": [
        "class NLinear(nn.Module):\n",
        "    \"\"\"\n",
        "    Normalization-Linear model for time series forecasting\n",
        "    \"\"\"\n",
        "    def __init__(self, seq_len, pred_len, channels, individual):\n",
        "        super(NLinear, self).__init__()\n",
        "        self.seq_len = seq_len\n",
        "        self.pred_len = pred_len\n",
        "        self.channels = channels\n",
        "        self.individual = individual\n",
        "\n",
        "        if self.individual:\n",
        "            self.Linear = nn.ModuleList()\n",
        "            for i in range(self.channels):\n",
        "                self.Linear.append(nn.Linear(self.seq_len, self.pred_len))\n",
        "        else:\n",
        "            self.Linear = nn.Linear(self.seq_len, self.pred_len)\n",
        "\n",
        "    def forward(self, x):\n",
        "        # x: [Batch, Input length, Channel]\n",
        "        seq_last = x[:,-1:,:].detach()\n",
        "        x = x - seq_last\n",
        "        if self.individual:\n",
        "            output = torch.zeros([x.size(0),self.pred_len,x.size(2)],dtype=x.dtype).to(x.device)\n",
        "            for i in range(self.channels):\n",
        "                output[:,:,i] = self.Linear[i](x[:,:,i])\n",
        "            x = output\n",
        "        else:\n",
        "            x = self.Linear(x.permute(0,2,1)).permute(0,2,1)\n",
        "        x = x + seq_last\n",
        "        return x # [Batch, Output length, Channel]\n"
      ]
    },
    {
      "cell_type": "code",
      "execution_count": null,
      "metadata": {
        "id": "tiog6eTO2uHv"
      },
      "outputs": [],
      "source": [
        "## Experiment 1\n",
        "device = torch.device(\"cuda:0\") #\"cuda:0\" if torch.cuda.is_available() else\n",
        "\n",
        "input_dim = 1  # since we have univariate series\n",
        "hidden_dim = 32  # can be any number\n",
        "layer_dim = 1  # only one layer\n",
        "output_dim = 1  # we want to predict water level, so it's 1\n",
        "\n",
        "model_1 = LSTMModel(input_dim, hidden_dim, layer_dim, output_dim)\n",
        "model_1 = model_1.to(device)\n",
        "\n",
        "criterion = nn.MSELoss()  # mean squared error loss\n",
        "optimizer = torch.optim.Adam(model_1.parameters(), lr=0.01)  # Adam optimizer\n"
      ]
    },
    {
      "cell_type": "code",
      "execution_count": null,
      "metadata": {
        "colab": {
          "base_uri": "https://localhost:8080/"
        },
        "id": "r3g0spyU3-W_",
        "outputId": "18bca834-2155-4b2f-cd8f-b67ec633fc37"
      },
      "outputs": [
        {
          "output_type": "stream",
          "name": "stderr",
          "text": [
            "/usr/local/lib/python3.10/dist-packages/torch/nn/modules/loss.py:536: UserWarning: Using a target size (torch.Size([32])) that is different to the input size (torch.Size([32, 1])). This will likely lead to incorrect results due to broadcasting. Please ensure they have the same size.\n",
            "  return F.mse_loss(input, target, reduction=self.reduction)\n",
            "/usr/local/lib/python3.10/dist-packages/torch/nn/modules/loss.py:536: UserWarning: Using a target size (torch.Size([28])) that is different to the input size (torch.Size([28, 1])). This will likely lead to incorrect results due to broadcasting. Please ensure they have the same size.\n",
            "  return F.mse_loss(input, target, reduction=self.reduction)\n",
            "/usr/local/lib/python3.10/dist-packages/torch/nn/modules/loss.py:536: UserWarning: Using a target size (torch.Size([12])) that is different to the input size (torch.Size([12, 1])). This will likely lead to incorrect results due to broadcasting. Please ensure they have the same size.\n",
            "  return F.mse_loss(input, target, reduction=self.reduction)\n"
          ]
        },
        {
          "output_type": "stream",
          "name": "stdout",
          "text": [
            "Epoch 1/5, Training Loss: 0.20997393131256104, Validation Loss: 0.09016866981983185\n",
            "Epoch 2/5, Training Loss: 0.21008920669555664, Validation Loss: 0.09027224034070969\n",
            "Epoch 3/5, Training Loss: 0.20997953414916992, Validation Loss: 0.09018078446388245\n",
            "Epoch 4/5, Training Loss: 0.1967460811138153, Validation Loss: 0.07761824876070023\n",
            "Epoch 5/5, Training Loss: 0.17360332608222961, Validation Loss: 0.06331438571214676\n"
          ]
        }
      ],
      "source": [
        "num_epochs = 5  # number of epochs\n",
        "\n",
        "losses = []\n",
        "for epoch in range(num_epochs):\n",
        "    model_1.train()\n",
        "    for X_batch, y_batch in train_loader:\n",
        "        X_batch = X_batch.view([X_batch.size(0), -1, 1]).to(device)\n",
        "        y_batch = y_batch.to(device)\n",
        "        # Forward pass\n",
        "        outputs = model_1(X_batch)\n",
        "        loss = criterion(outputs, y_batch)\n",
        "        losses.append(loss.item())\n",
        "        # Backward pass and optimization\n",
        "        optimizer.zero_grad()\n",
        "        loss.backward()\n",
        "        optimizer.step()\n",
        "\n",
        "\n",
        "    model_1.eval()\n",
        "    with torch.no_grad():\n",
        "        valid_loss = sum(criterion(model_1(X_valid.view([X_valid.size(0), -1, 1]).to(device)), y_valid.to(device)) for X_valid, y_valid in valid_loader)\n",
        "\n",
        "    print(f'Epoch {epoch+1}/{num_epochs}, Training Loss: {loss.item()}, Validation Loss: {valid_loss/len(valid_loader)}')"
      ]
    },
    {
      "cell_type": "code",
      "execution_count": null,
      "metadata": {
        "id": "aggcuZ3R33ss"
      },
      "outputs": [],
      "source": [
        "## Experiment 2\n",
        "device = torch.device(\"cuda:0\" if torch.cuda.is_available() else \"cpu\")\n",
        "\n",
        "model_2 = NLinear(seq_len=100, pred_len=10, channels=1, individual=False)\n",
        "\n",
        "model_2 = model_2.to(device)\n",
        "\n",
        "criterion = nn.MSELoss()  # mean squared error loss\n",
        "optimizer = torch.optim.SGD(model_2.parameters(), lr=0.01)  # Adam optimizer\n"
      ]
    },
    {
      "cell_type": "code",
      "execution_count": null,
      "metadata": {
        "colab": {
          "base_uri": "https://localhost:8080/"
        },
        "id": "I11RzB-iT_zv",
        "outputId": "e931cd2a-42a3-434b-fb6c-ebbabda14b63"
      },
      "outputs": [
        {
          "output_type": "stream",
          "name": "stderr",
          "text": [
            "/usr/local/lib/python3.10/dist-packages/torch/nn/modules/loss.py:536: UserWarning: Using a target size (torch.Size([32])) that is different to the input size (torch.Size([32, 10, 1])). This will likely lead to incorrect results due to broadcasting. Please ensure they have the same size.\n",
            "  return F.mse_loss(input, target, reduction=self.reduction)\n",
            "/usr/local/lib/python3.10/dist-packages/torch/nn/modules/loss.py:536: UserWarning: Using a target size (torch.Size([28])) that is different to the input size (torch.Size([28, 10, 1])). This will likely lead to incorrect results due to broadcasting. Please ensure they have the same size.\n",
            "  return F.mse_loss(input, target, reduction=self.reduction)\n",
            "/usr/local/lib/python3.10/dist-packages/torch/nn/modules/loss.py:536: UserWarning: Using a target size (torch.Size([12])) that is different to the input size (torch.Size([12, 10, 1])). This will likely lead to incorrect results due to broadcasting. Please ensure they have the same size.\n",
            "  return F.mse_loss(input, target, reduction=self.reduction)\n"
          ]
        },
        {
          "output_type": "stream",
          "name": "stdout",
          "text": [
            "Epoch 1/5, Training Loss: 0.16962440311908722, Validation Loss: 0.027046289294958115\n",
            "Epoch 2/5, Training Loss: 0.1687426120042801, Validation Loss: 0.0268877986818552\n",
            "Epoch 3/5, Training Loss: 0.16793771088123322, Validation Loss: 0.026819752529263496\n",
            "Epoch 4/5, Training Loss: 0.16726842522621155, Validation Loss: 0.026779014617204666\n",
            "Epoch 5/5, Training Loss: 0.16671787202358246, Validation Loss: 0.02675093710422516\n"
          ]
        }
      ],
      "source": [
        "num_epochs = 5  # number of epochs\n",
        "\n",
        "losses = []\n",
        "for epoch in range(num_epochs):\n",
        "    model_2.train()\n",
        "    for X_batch, y_batch in train_loader:\n",
        "        X_batch = X_batch.view([X_batch.size(0), -1, 1]).to(device)\n",
        "        y_batch = y_batch.to(device)\n",
        "        # Forward pass\n",
        "        outputs = model_2(X_batch)\n",
        "        loss = criterion(outputs, y_batch)\n",
        "        losses.append(loss.item())\n",
        "        # Backward pass and optimization\n",
        "        optimizer.zero_grad()\n",
        "        loss.backward()\n",
        "        optimizer.step()\n",
        "\n",
        "    model_2.eval()\n",
        "    with torch.no_grad():\n",
        "        valid_loss = sum(criterion(model_2(X_valid.view([X_valid.size(0), -1, 1]).to(device)), y_valid.to(device)) for X_valid, y_valid in valid_loader)\n",
        "\n",
        "    print(f'Epoch {epoch+1}/{num_epochs}, Training Loss: {loss.item()}, Validation Loss: {valid_loss/len(valid_loader)}')\n"
      ]
    },
    {
      "cell_type": "code",
      "execution_count": null,
      "metadata": {
        "id": "4c7S7aea360b"
      },
      "outputs": [],
      "source": [
        "## Experiment 3\n",
        "device = torch.device(\"cuda:0\" if torch.cuda.is_available() else \"cpu\")\n",
        "\n",
        "input_dim = 1  # since we have univariate series\n",
        "hidden_dim = 32  # can be any number\n",
        "layer_dim = 1  # only one layer\n",
        "output_dim = 1  # we want to predict water level, so it's 1\n",
        "\n",
        "model_3 = GRUModel(input_dim, hidden_dim, layer_dim, output_dim)\n",
        "model_3 = model_3.to(device)\n",
        "\n",
        "criterion = nn.MSELoss()  # mean squared error loss\n",
        "optimizer = torch.optim.Adamax(model_3.parameters(), lr=0.01)  # Adam optimizer\n"
      ]
    },
    {
      "cell_type": "code",
      "execution_count": null,
      "metadata": {
        "colab": {
          "base_uri": "https://localhost:8080/"
        },
        "id": "954mzh9-UBno",
        "outputId": "06a348ef-0500-48de-9bc5-3da0d54072c7"
      },
      "outputs": [
        {
          "output_type": "stream",
          "name": "stdout",
          "text": [
            "Epoch 1/5, Training Loss: 0.1588643342256546, Validation Loss: 0.048119932413101196\n",
            "Epoch 2/5, Training Loss: 0.15440334379673004, Validation Loss: 0.04797876253724098\n",
            "Epoch 3/5, Training Loss: 0.1704423427581787, Validation Loss: 0.04686766862869263\n",
            "Epoch 4/5, Training Loss: 0.16383598744869232, Validation Loss: 0.038538359105587006\n",
            "Epoch 5/5, Training Loss: 0.160818949341774, Validation Loss: 0.04448702186346054\n"
          ]
        }
      ],
      "source": [
        "num_epochs = 5  # number of epochs\n",
        "\n",
        "losses = []\n",
        "for epoch in range(num_epochs):\n",
        "    model_3.train()\n",
        "    for X_batch, y_batch in train_loader:\n",
        "        X_batch = X_batch.view([X_batch.size(0), -1, 1]).to(device)\n",
        "        y_batch = y_batch.to(device)\n",
        "        # Forward pass\n",
        "        outputs = model_3(X_batch)\n",
        "        loss = criterion(outputs, y_batch)\n",
        "        losses.append(loss.item())\n",
        "        # Backward pass and optimization\n",
        "        optimizer.zero_grad()\n",
        "        loss.backward()\n",
        "        optimizer.step()\n",
        "\n",
        "    model_3.eval()\n",
        "    with torch.no_grad():\n",
        "        valid_loss = sum(criterion(model_3(X_valid.view([X_valid.size(0), -1, 1]).to(device)), y_valid.to(device)) for X_valid, y_valid in valid_loader)\n",
        "\n",
        "    print(f'Epoch {epoch+1}/{num_epochs}, Training Loss: {loss.item()}, Validation Loss: {valid_loss/len(valid_loader)}')\n"
      ]
    },
    {
      "cell_type": "markdown",
      "metadata": {
        "id": "iCS8Nh7ck3dJ"
      },
      "source": [
        "## Test with Data for 2023 prediction"
      ]
    },
    {
      "cell_type": "code",
      "execution_count": null,
      "metadata": {
        "colab": {
          "base_uri": "https://localhost:8080/"
        },
        "id": "MJzmmnU_k3dK",
        "outputId": "7c3acb32-b66d-443b-adfd-ed19f9f2e1f8"
      },
      "outputs": [
        {
          "output_type": "stream",
          "name": "stdout",
          "text": [
            "팔당댐 1017678\n",
            "남양주시(팔당댐) 1017690\n",
            "남양주시(팔당대교) 1018610\n",
            "팔당대교 1018611\n",
            "서울시(광진교) 1018640\n",
            "서울시(대곡교) 1018655\n",
            "서울시(대치교) 1018658\n",
            "서울시(청담대교) 1018662\n",
            "서울시(창동교) 1018669\n",
            "서울시(월계2교) 1018670\n",
            "서울시(중랑교) 1018675\n",
            "서울시(잠수교) 1018680\n",
            "서울시(한강대교) 1018683\n",
            "서울시(너부대교) 1018695\n",
            "서울시(오금교) 1018697\n",
            "서울시(신대방1교) 1018698\n",
            "서울시(행주대교) 1019630\n"
          ]
        }
      ],
      "source": [
        "#### DATA FOR 2023 5 months\n",
        "\n",
        "SERVICE_KEY = \"AA8951AA-39F8-4E1D-A62E-3C82CDFC48D4\"\n",
        "\n",
        "import pandas as pd\n",
        "import numpy as np\n",
        "import requests\n",
        "import calendar\n",
        "import time\n",
        "\n",
        "url = f'http://api.hrfco.go.kr/{SERVICE_KEY}/waterlevel/info.json'\n",
        "response = requests.get(url)\n",
        "\n",
        "data = response.json()\n",
        "for con in data['content']:\n",
        "    if '서울' in con['obsnm']:\n",
        "        print(con['obsnm'], con['wlobscd'])\n",
        "    if '팔당'  in con['obsnm']:\n",
        "        print(con['obsnm'], con['wlobscd'])\n",
        "\n",
        "bridge = {\n",
        "    \"서울시(잠수교)\": 1018680,\n",
        "}\n",
        "\n",
        "os.makedirs('2023jamsu', exist_ok=True)\n",
        "\n",
        "for name, code in bridge.items():\n",
        "    for year in range(2023, 2024):\n",
        "        ms, me = (1, 6)\n",
        "        for month in range(ms, me):\n",
        "            weekday, end = calendar.monthrange(year, month)\n",
        "            sdate = f\"{year}{month:02}010000\"\n",
        "            edate = f\"{year}{month:02}{end:02}2350\"\n",
        "            url = f\"http://api.hrfco.go.kr/{SERVICE_KEY}/waterlevel/list/10M/{code}/{sdate}/{edate}.json\"\n",
        "            response = requests.get(url)\n",
        "            df = pd.DataFrame(response.json()['content'])\n",
        "            df.to_csv(f\"2023jamsu/{year}{month:02}_{name}.csv\") ## CHANGE HERE\n",
        "            time.sleep(3)"
      ]
    },
    {
      "cell_type": "code",
      "source": [
        "files_in_dir2 = os.listdir('2023jamsu') ### CHANGE HERE\n",
        "\n",
        "csv_files = [file for file in files_in_dir2 if '잠수교' in file] ### CHANGE HERE\n",
        "csv_files.sort()\n",
        "print(csv_files)"
      ],
      "metadata": {
        "colab": {
          "base_uri": "https://localhost:8080/"
        },
        "id": "2ZSbQ1df3a6b",
        "outputId": "ac53a125-3ee0-42a3-bdfc-394a64922bf7"
      },
      "execution_count": null,
      "outputs": [
        {
          "output_type": "stream",
          "name": "stdout",
          "text": [
            "['202301_서울시(잠수교).csv', '202302_서울시(잠수교).csv', '202303_서울시(잠수교).csv', '202304_서울시(잠수교).csv', '202305_서울시(잠수교).csv']\n"
          ]
        }
      ]
    },
    {
      "cell_type": "code",
      "source": [
        "import pandas as pd\n",
        "for filename in csv_files:\n",
        "    df = pd.read_csv('2023jamsu/' + filename)\n",
        "    df = df.sort_values(\"ymdhm\", axis=0, ascending=True)\n",
        "    df.to_csv('2023jamsu/' + filename)"
      ],
      "metadata": {
        "id": "naAOnH4s3T_y"
      },
      "execution_count": null,
      "outputs": []
    },
    {
      "cell_type": "code",
      "execution_count": null,
      "metadata": {
        "colab": {
          "base_uri": "https://localhost:8080/"
        },
        "id": "NNUVZih2k3dK",
        "outputId": "e76bdada-62eb-4894-9c25-6aa953e8bb1d"
      },
      "outputs": [
        {
          "output_type": "stream",
          "name": "stdout",
          "text": [
            "['202301_서울시(잠수교).csv', '202302_서울시(잠수교).csv', '202303_서울시(잠수교).csv', '202304_서울시(잠수교).csv', '202305_서울시(잠수교).csv']\n",
            "Reading 202301_서울시(잠수교).csv\n",
            "Reading 202302_서울시(잠수교).csv\n",
            "Reading 202303_서울시(잠수교).csv\n",
            "Reading 202304_서울시(잠수교).csv\n",
            "Reading 202305_서울시(잠수교).csv\n",
            "                    ymdhm    wl\n",
            "0     2023-01-01 00:00:00  2.64\n",
            "1     2023-01-01 00:10:00  2.64\n",
            "2     2023-01-01 00:20:00  2.64\n",
            "3     2023-01-01 00:30:00  2.64\n",
            "4     2023-01-01 00:40:00  2.64\n",
            "...                   ...   ...\n",
            "21739 2023-05-31 23:10:00  2.94\n",
            "21740 2023-05-31 23:20:00  2.94\n",
            "21741 2023-05-31 23:30:00  2.94\n",
            "21742 2023-05-31 23:40:00  2.94\n",
            "21743 2023-05-31 23:50:00  2.93\n",
            "\n",
            "[21744 rows x 2 columns]\n"
          ]
        }
      ],
      "source": [
        "test_2023_df = []\n",
        "\n",
        "\n",
        "files_in_dir2 = os.listdir('2023jamsu') ### CHANGE HERE\n",
        "\n",
        "csv_files = [file for file in files_in_dir2 if '잠수교' in file] ### CHANGE HERE\n",
        "csv_files.sort()\n",
        "print(csv_files)\n",
        "\n",
        "for df_path in csv_files:\n",
        "    print('Reading', df_path)\n",
        "    df = pd.read_csv(os.path.join('2023jamsu', df_path))\n",
        "    df = df.drop(columns=['fw', 'links'])  # dropping unnecessary columns\n",
        "    test_2023_df.append(df)\n",
        "\n",
        "final_df = pd.concat(test_2023_df, ignore_index=True)\n",
        "final_df = final_df[['ymdhm', 'wl']]\n",
        "final_df['ymdhm'] = pd.to_datetime(final_df['ymdhm'], format='%Y%m%d%H%M')\n",
        "\n",
        "final_df['wl'] = pd.to_numeric(final_df['wl'], errors='coerce')\n",
        "final_df['wl'] = final_df['wl'].fillna(final_df['wl'].mean())\n",
        "\n",
        "final_df.head()\n",
        "print(final_df)"
      ]
    },
    {
      "cell_type": "code",
      "source": [
        "# print(X_test)\n",
        "print(y_test)\n",
        "arr = final_df['wl']\n",
        "n = len(arr)\n",
        "# print(arr)\n",
        "print(arr[n-100: n])"
      ],
      "metadata": {
        "colab": {
          "base_uri": "https://localhost:8080/"
        },
        "id": "f9XUNyJB7X3T",
        "outputId": "80939c9d-9d5a-432f-f3ce-cf4ce6b85f23"
      },
      "execution_count": null,
      "outputs": [
        {
          "output_type": "stream",
          "name": "stdout",
          "text": [
            "[2.68 2.68 2.67 ... 2.65 2.65 2.65]\n",
            "21644    2.84\n",
            "21645    2.83\n",
            "21646    2.83\n",
            "21647    2.82\n",
            "21648    2.83\n",
            "         ... \n",
            "21739    2.94\n",
            "21740    2.94\n",
            "21741    2.94\n",
            "21742    2.94\n",
            "21743    2.93\n",
            "Name: wl, Length: 100, dtype: float64\n"
          ]
        }
      ]
    },
    {
      "cell_type": "markdown",
      "source": [
        "\n",
        "\n",
        "---\n",
        "\n"
      ],
      "metadata": {
        "id": "5xAtXZ147T1i"
      }
    },
    {
      "cell_type": "code",
      "execution_count": null,
      "metadata": {
        "id": "MoGw_FVHk3dL"
      },
      "outputs": [],
      "source": [
        "X_test, y_test, ls = create_sequences(final_df['wl'], final_df['ymdhm'], seq_length)"
      ]
    },
    {
      "cell_type": "code",
      "source": [
        "print(ls)\n",
        "print(len(y_test))"
      ],
      "metadata": {
        "colab": {
          "base_uri": "https://localhost:8080/"
        },
        "id": "gYtNd83-9_Pc",
        "outputId": "c5eecac4-969f-40d2-b766-82a382d6a636"
      },
      "execution_count": null,
      "outputs": [
        {
          "output_type": "stream",
          "name": "stdout",
          "text": [
            "[Timestamp('2023-01-01 16:40:00') Timestamp('2023-01-01 16:50:00')\n",
            " Timestamp('2023-01-01 17:00:00') ... Timestamp('2023-05-31 23:30:00')\n",
            " Timestamp('2023-05-31 23:40:00') Timestamp('2023-05-31 23:50:00')]\n",
            "21644\n"
          ]
        }
      ]
    },
    {
      "cell_type": "code",
      "execution_count": null,
      "metadata": {
        "id": "lUYAnsaWk3dL"
      },
      "outputs": [],
      "source": [
        "test_dataset = WaterLevelDataset(torch.from_numpy(X_test).float(), torch.from_numpy(y_test).float())\n",
        "test_loader = DataLoader(test_dataset, batch_size=1, shuffle=False)  # batch size of 1 for testing"
      ]
    },
    {
      "cell_type": "code",
      "execution_count": null,
      "metadata": {
        "id": "LGqOlI-6k3dL"
      },
      "outputs": [],
      "source": [
        "# prediction code\n",
        "\n",
        "ground_truth = []\n",
        "predictions_lstm = []\n",
        "predictions_gru = []\n",
        "predictions_linear = []\n",
        "\n",
        "# set models to evaluation mode\n",
        "model_1.eval() # lstm\n",
        "model_2.eval() # linear\n",
        "model_3.eval() # gru\n",
        "\n",
        "for X_test, y_test in test_loader:\n",
        "    X_test = X_test.view([X_test.size(0), -1, 1]).to(device)\n",
        "    ground_truth.append(y_test.detach().numpy()[0])\n",
        "\n",
        "    with torch.no_grad():\n",
        "        lstm_pred = model_1(X_test)\n",
        "        predictions_lstm.append(lstm_pred.cpu().detach().numpy()[0])\n",
        "\n",
        "        gru_pred = model_3(X_test)\n",
        "        predictions_gru.append(gru_pred.cpu().detach().numpy()[0])\n",
        "\n",
        "        # to check the dimensions of output\n",
        "        linear_pred = model_2(X_test)\n",
        "        predictions_linear.append(linear_pred.cpu().detach().numpy()[0].mean())\n",
        ""
      ]
    },
    {
      "cell_type": "code",
      "source": [
        "print(ls)"
      ],
      "metadata": {
        "colab": {
          "base_uri": "https://localhost:8080/"
        },
        "id": "XIF40oQz7-l-",
        "outputId": "5b126aba-dfff-43d8-ae63-084927ddd310"
      },
      "execution_count": null,
      "outputs": [
        {
          "output_type": "stream",
          "name": "stdout",
          "text": [
            "[['2023-01-01T00:00:00.000000000' '2023-01-01T00:10:00.000000000'\n",
            "  '2023-01-01T00:20:00.000000000' ... '2023-01-01T16:10:00.000000000'\n",
            "  '2023-01-01T16:20:00.000000000' '2023-01-01T16:30:00.000000000']\n",
            " ['2023-01-01T00:10:00.000000000' '2023-01-01T00:20:00.000000000'\n",
            "  '2023-01-01T00:30:00.000000000' ... '2023-01-01T16:20:00.000000000'\n",
            "  '2023-01-01T16:30:00.000000000' '2023-01-01T16:40:00.000000000']\n",
            " ['2023-01-01T00:20:00.000000000' '2023-01-01T00:30:00.000000000'\n",
            "  '2023-01-01T00:40:00.000000000' ... '2023-01-01T16:30:00.000000000'\n",
            "  '2023-01-01T16:40:00.000000000' '2023-01-01T16:50:00.000000000']\n",
            " ...\n",
            " ['2023-05-31T06:50:00.000000000' '2023-05-31T07:00:00.000000000'\n",
            "  '2023-05-31T07:10:00.000000000' ... '2023-05-31T23:00:00.000000000'\n",
            "  '2023-05-31T23:10:00.000000000' '2023-05-31T23:20:00.000000000']\n",
            " ['2023-05-31T07:00:00.000000000' '2023-05-31T07:10:00.000000000'\n",
            "  '2023-05-31T07:20:00.000000000' ... '2023-05-31T23:10:00.000000000'\n",
            "  '2023-05-31T23:20:00.000000000' '2023-05-31T23:30:00.000000000']\n",
            " ['2023-05-31T07:10:00.000000000' '2023-05-31T07:20:00.000000000'\n",
            "  '2023-05-31T07:30:00.000000000' ... '2023-05-31T23:20:00.000000000'\n",
            "  '2023-05-31T23:30:00.000000000' '2023-05-31T23:40:00.000000000']]\n"
          ]
        }
      ]
    },
    {
      "cell_type": "code",
      "execution_count": null,
      "metadata": {
        "colab": {
          "base_uri": "https://localhost:8080/",
          "height": 484
        },
        "id": "sHMP6djUk3dL",
        "outputId": "36d06912-e8f9-429e-9210-1dac5cedc9df"
      },
      "outputs": [
        {
          "output_type": "display_data",
          "data": {
            "text/plain": [
              "<Figure size 640x480 with 1 Axes>"
            ],
            "image/png": "[encoded data removed]"
          },
          "metadata": {}
        },
        {
          "output_type": "stream",
          "name": "stdout",
          "text": [
            "LSTM loss:  [0.05664171]\n",
            "GRU loss:  [0.03145163]\n",
            "NLInear loss:  0.007316981306148887\n"
          ]
        }
      ],
      "source": [
        "import matplotlib.pyplot as plt\n",
        "\n",
        "timesteps = range(len(ground_truth))\n",
        "\n",
        "\n",
        "plt.plot(ls, ground_truth, label='GT')\n",
        "plt.plot(ls, predictions_lstm, label='LSTM')\n",
        "plt.plot(ls, predictions_gru, label='GRU')\n",
        "plt.plot(ls, predictions_linear, label='NLinear')\n",
        "\n",
        "plt.legend()\n",
        "plt.show()\n",
        "\n",
        "print('LSTM loss: ', sum([ (predictions_lstm[i]-ground_truth[i])**2 for i in timesteps])/len(timesteps))\n",
        "print('GRU loss: ', sum([ (predictions_gru[i]-ground_truth[i])**2 for i in timesteps])/len(timesteps))\n",
        "print('NLInear loss: ', sum([ (predictions_linear[i]-ground_truth[i])**2 for i in timesteps])/len(timesteps))"
      ]
    },
    {
      "cell_type": "code",
      "source": [
        "print(timesteps)\n",
        "timesteps = final_df['ymdhm']\n",
        "print(len())\n",
        "print(final_df['ymdhm'])"
      ],
      "metadata": {
        "colab": {
          "base_uri": "https://localhost:8080/",
          "height": 240
        },
        "id": "hwcMn-N34Kh2",
        "outputId": "236de45c-27e4-41bd-cd25-f2ea692ebd28"
      },
      "execution_count": null,
      "outputs": [
        {
          "output_type": "stream",
          "name": "stdout",
          "text": [
            "range(0, 21644)\n"
          ]
        },
        {
          "output_type": "error",
          "ename": "TypeError",
          "evalue": "ignored",
          "traceback": [
            "\u001b[0;31m---------------------------------------------------------------------------\u001b[0m",
            "\u001b[0;31mTypeError\u001b[0m                                 Traceback (most recent call last)",
            "\u001b[0;32m<ipython-input-28-2cbde3ef6745>\u001b[0m in \u001b[0;36m<cell line: 3>\u001b[0;34m()\u001b[0m\n\u001b[1;32m      1\u001b[0m \u001b[0mprint\u001b[0m\u001b[0;34m(\u001b[0m\u001b[0mtimesteps\u001b[0m\u001b[0;34m)\u001b[0m\u001b[0;34m\u001b[0m\u001b[0;34m\u001b[0m\u001b[0m\n\u001b[1;32m      2\u001b[0m \u001b[0mtimesteps\u001b[0m \u001b[0;34m=\u001b[0m \u001b[0mfinal_df\u001b[0m\u001b[0;34m[\u001b[0m\u001b[0;34m'ymdhm'\u001b[0m\u001b[0;34m]\u001b[0m\u001b[0;34m\u001b[0m\u001b[0;34m\u001b[0m\u001b[0m\n\u001b[0;32m----> 3\u001b[0;31m \u001b[0mprint\u001b[0m\u001b[0;34m(\u001b[0m\u001b[0mlen\u001b[0m\u001b[0;34m(\u001b[0m\u001b[0;34m)\u001b[0m\u001b[0;34m)\u001b[0m\u001b[0;34m\u001b[0m\u001b[0;34m\u001b[0m\u001b[0m\n\u001b[0m\u001b[1;32m      4\u001b[0m \u001b[0mprint\u001b[0m\u001b[0;34m(\u001b[0m\u001b[0mfinal_df\u001b[0m\u001b[0;34m[\u001b[0m\u001b[0;34m'ymdhm'\u001b[0m\u001b[0;34m]\u001b[0m\u001b[0;34m)\u001b[0m\u001b[0;34m\u001b[0m\u001b[0;34m\u001b[0m\u001b[0m\n",
            "\u001b[0;31mTypeError\u001b[0m: len() takes exactly one argument (0 given)"
          ]
        }
      ]
    },
    {
      "cell_type": "code",
      "execution_count": null,
      "metadata": {
        "colab": {
          "base_uri": "https://localhost:8080/",
          "height": 430
        },
        "id": "h7x9Ojk2k3dL",
        "outputId": "dea3ee52-49b6-467a-9c2d-57a38f43afbf"
      },
      "outputs": [
        {
          "output_type": "display_data",
          "data": {
            "text/plain": [
              "<Figure size 640x480 with 1 Axes>"
            ],
            "image/png": "[encoded data removed]"
          },
          "metadata": {}
        }
      ],
      "source": [
        "plt.plot(ls, ground_truth, label='GT')\n",
        "# plt.plot(timesteps, predictions_lstm, label='LSTM')\n",
        "# plt.plot(timesteps, predictions_gru, label='GRU')\n",
        "plt.plot(ls, predictions_linear, label='NLinear')\n",
        "\n",
        "plt.legend()\n",
        "plt.show()"
      ]
    },
    {
      "cell_type": "code",
      "execution_count": null,
      "metadata": {
        "colab": {
          "base_uri": "https://localhost:8080/"
        },
        "id": "F81AVNIAk3dL",
        "outputId": "cb800fef-86cc-4a2b-e893-068c0a30e8b5"
      },
      "outputs": [
        {
          "output_type": "stream",
          "name": "stdout",
          "text": [
            "[      Unnamed: 0  wlobscd         ymdhm    wl\n",
            "0              0  1019630  202302282350  1.70\n",
            "1              1  1019630  202302282340  1.70\n",
            "2              2  1019630  202302282330  1.70\n",
            "3              3  1019630  202302282320  1.71\n",
            "4              4  1019630  202302282310  1.71\n",
            "...          ...      ...           ...   ...\n",
            "4027        4027  1019630  202302010040  1.69\n",
            "4028        4028  1019630  202302010030  1.69\n",
            "4029        4029  1019630  202302010020  1.69\n",
            "4030        4030  1019630  202302010010  1.69\n",
            "4031        4031  1019630  202302010000  1.69\n",
            "\n",
            "[4032 rows x 4 columns],       Unnamed: 0  wlobscd         ymdhm    wl\n",
            "0              0  1019630  202304302350  1.66\n",
            "1              1  1019630  202304302340  1.66\n",
            "2              2  1019630  202304302330  1.65\n",
            "3              3  1019630  202304302320  1.65\n",
            "4              4  1019630  202304302310  1.65\n",
            "...          ...      ...           ...   ...\n",
            "4315        4315  1019630  202304010040  1.72\n",
            "4316        4316  1019630  202304010030  1.72\n",
            "4317        4317  1019630  202304010020  1.72\n",
            "4318        4318  1019630  202304010010  1.72\n",
            "4319        4319  1019630  202304010000  1.72\n",
            "\n",
            "[4320 rows x 4 columns],       Unnamed: 0  wlobscd         ymdhm    wl\n",
            "0              0  1019630  202305312350      \n",
            "1              1  1019630  202305312340      \n",
            "2              2  1019630  202305312330      \n",
            "3              3  1019630  202305312320      \n",
            "4              4  1019630  202305312310      \n",
            "...          ...      ...           ...   ...\n",
            "4459        4459  1019630  202305010040  1.66\n",
            "4460        4460  1019630  202305010030  1.67\n",
            "4461        4461  1019630  202305010020  1.67\n",
            "4462        4462  1019630  202305010010  1.66\n",
            "4463        4463  1019630  202305010000  1.66\n",
            "\n",
            "[4464 rows x 4 columns],       Unnamed: 0  wlobscd         ymdhm    wl\n",
            "0              0  1019630  202303312350  1.72\n",
            "1              1  1019630  202303312340  1.72\n",
            "2              2  1019630  202303312330  1.72\n",
            "3              3  1019630  202303312320  1.72\n",
            "4              4  1019630  202303312310  1.72\n",
            "...          ...      ...           ...   ...\n",
            "4459        4459  1019630  202303010040  1.71\n",
            "4460        4460  1019630  202303010030  1.71\n",
            "4461        4461  1019630  202303010020  1.70\n",
            "4462        4462  1019630  202303010010  1.70\n",
            "4463        4463  1019630  202303010000  1.70\n",
            "\n",
            "[4464 rows x 4 columns],       Unnamed: 0  wlobscd         ymdhm    wl\n",
            "0              0  1019630  202301312350  1.70\n",
            "1              1  1019630  202301312340  1.70\n",
            "2              2  1019630  202301312330  1.69\n",
            "3              3  1019630  202301312320  1.69\n",
            "4              4  1019630  202301312310  1.69\n",
            "...          ...      ...           ...   ...\n",
            "4459        4459  1019630  202301010040  1.71\n",
            "4460        4460  1019630  202301010030  1.71\n",
            "4461        4461  1019630  202301010020  1.71\n",
            "4462        4462  1019630  202301010010  1.71\n",
            "4463        4463  1019630  202301010000  1.71\n",
            "\n",
            "[4464 rows x 4 columns]]\n"
          ]
        }
      ],
      "source": [
        "# final_df['ymdhm'] = pd.to_datetime(final_df['ymdhm'], format='%Y%m%d%H%M')\n",
        "# print(final_df['ymdhm'])\n",
        "print(test_2023_df)"
      ]
    },
    {
      "cell_type": "code",
      "source": [
        "import glob\n",
        "import matplotlib.pyplot as plt\n",
        "import csv\n",
        "import datetime\n",
        "import numpy as np\n",
        "\n",
        "\n",
        "directory_countaining_csv_files = os.listdir('jamsu') ### CHANGE HERE\n",
        "\n",
        "list_csv = [file for file in files_in_directory if '잠수교' in file] ### CHANGE HERE\n",
        "number_of_files = len(list_csv)\n",
        "list_csv.sort()\n",
        "print(list_csv)\n",
        "\n",
        "# directory_countaining_csv_files = 'datahj'\n",
        "# number_of_files = len(glob.glob(f'{directory_countaining_csv_files}/202*.csv'))\n",
        "# list_csv = glob.glob(f'{directory_countaining_csv_files}/202*.csv')\n",
        "# list_csv.sort()\n",
        "fig, ax = plt.subplots()\n",
        "\n",
        "def myformat(x, pos):\n",
        "    # print(x)\n",
        "    if str(x).endswith('010000'):\n",
        "        print(x)\n",
        "        return \"{}%\".format(x)\n",
        "    else:\n",
        "        return None\n",
        "\n",
        "# ax.xaxis.set_major_formatter(plt.FuncFormatter(myformat))\n",
        "x = []\n",
        "y = []\n",
        "# for filename in csv_files:\n",
        "#     df = pd.read_csv('hj/' + filename)\n",
        "#     df = df.drop(columns=['fw', 'links'])  # dropping unnecessary columns\n",
        "#     list_of_dataframes.append(df)\n",
        "for filename in list_csv:\n",
        "    x_cur = []\n",
        "    y_cur = []\n",
        "    first = True\n",
        "    df = pd.read_csv('jamsu/' + filename)\n",
        "    # print(df)\n",
        "    lines = df\n",
        "    for i, row in enumerate(df['wl']):\n",
        "\n",
        "        if first == True:\n",
        "            first = False\n",
        "            continue\n",
        "        x_cur.append(str(df['ymdhm'][i]))\n",
        "        try:\n",
        "            if df['wl'][i] < 1:\n",
        "              print(df['ymdhm'][i])\n",
        "              print(df['wl'][i])\n",
        "              df['wl'][i] = 2\n",
        "            y_cur.append(float(df['wl'][i]))\n",
        "        except:\n",
        "            y_cur.append(2)\n",
        "    x_cur.reverse()\n",
        "    y_cur.reverse()\n",
        "    x = x + x_cur\n",
        "    y = y + y_cur\n",
        "\n",
        "x = [datetime.datetime.strptime(x_val, \"%Y%m%d%H%M\") for x_val in x]\n",
        "ax.plot(x, y)\n",
        "order = [i for i in range(number_of_files)]\n",
        "# plt.legend([handles[idx] for idx in order],[labels[idx] for idx in order])\n",
        "# ax.xaxis.set_majxor_locator(plt.MaxNLocator(10))\n",
        "# ax.xaxis.set_major_formatter(plt.FuncFormatter(myformat))\n",
        "# plt.tick_params(\n",
        "    # axis='x',          # changes apply to the x-axis\n",
        "    # which='both',      # both major and minor ticks are affected\n",
        "    # bottom=True,      # ticks along the bottom edge are off\n",
        "    # top=False,         # ticks along the top edge are off\n",
        "    # labelbottom=False) # labels along the bottom edge are off\n",
        "\n",
        "\n",
        "# plt.plot(x, y, color = 'g',label = \"Weather Data\")\n",
        "\n",
        "\n",
        "# plt.xlabel('Dates')\n",
        "# plt.ylabel('Temperature(°C)')\n",
        "# print(fig)\n",
        "# plt.title('Weather Report', fontsize = 20)\n",
        "# plt.grid()\n",
        "# plt.legend()\n",
        "# xticks = []\n",
        "# for i, xi in enumerate(x):\n",
        "#     if y[i] == None:\n",
        "#         continue\n",
        "#     if float(y[i]) > 4:\n",
        "#         xticks.append(xi)\n",
        "# ax.set_xticks(xticks)\n",
        "\n",
        "plt.xticks(rotation='vertical')\n",
        "plt.show()\n"
      ],
      "metadata": {
        "colab": {
          "base_uri": "https://localhost:8080/",
          "height": 494
        },
        "id": "D2IGNv3E_5m8",
        "outputId": "759b7de9-7f1a-4f4e-ee12-28e4212501a2"
      },
      "execution_count": null,
      "outputs": [
        {
          "output_type": "stream",
          "name": "stdout",
          "text": [
            "['201301_서울시(잠수교).csv', '201302_서울시(잠수교).csv', '201303_서울시(잠수교).csv', '201304_서울시(잠수교).csv', '201305_서울시(잠수교).csv', '201306_서울시(잠수교).csv', '201307_서울시(잠수교).csv', '201308_서울시(잠수교).csv', '201309_서울시(잠수교).csv', '201310_서울시(잠수교).csv', '201311_서울시(잠수교).csv', '201312_서울시(잠수교).csv', '201401_서울시(잠수교).csv', '201402_서울시(잠수교).csv', '201403_서울시(잠수교).csv', '201404_서울시(잠수교).csv', '201405_서울시(잠수교).csv', '201406_서울시(잠수교).csv', '201407_서울시(잠수교).csv', '201408_서울시(잠수교).csv', '201409_서울시(잠수교).csv', '201410_서울시(잠수교).csv', '201411_서울시(잠수교).csv', '201412_서울시(잠수교).csv', '201501_서울시(잠수교).csv', '201502_서울시(잠수교).csv', '201503_서울시(잠수교).csv', '201504_서울시(잠수교).csv', '201505_서울시(잠수교).csv', '201506_서울시(잠수교).csv', '201507_서울시(잠수교).csv', '201508_서울시(잠수교).csv', '201509_서울시(잠수교).csv', '201510_서울시(잠수교).csv', '201511_서울시(잠수교).csv', '201512_서울시(잠수교).csv', '201601_서울시(잠수교).csv', '201602_서울시(잠수교).csv', '201603_서울시(잠수교).csv', '201604_서울시(잠수교).csv', '201605_서울시(잠수교).csv', '201606_서울시(잠수교).csv', '201607_서울시(잠수교).csv', '201608_서울시(잠수교).csv', '201609_서울시(잠수교).csv', '201610_서울시(잠수교).csv', '201611_서울시(잠수교).csv', '201612_서울시(잠수교).csv', '201701_서울시(잠수교).csv', '201702_서울시(잠수교).csv', '201703_서울시(잠수교).csv', '201704_서울시(잠수교).csv', '201705_서울시(잠수교).csv', '201706_서울시(잠수교).csv', '201707_서울시(잠수교).csv', '201708_서울시(잠수교).csv', '201709_서울시(잠수교).csv', '201710_서울시(잠수교).csv', '201711_서울시(잠수교).csv', '201712_서울시(잠수교).csv', '201801_서울시(잠수교).csv', '201802_서울시(잠수교).csv', '201803_서울시(잠수교).csv', '201804_서울시(잠수교).csv', '201805_서울시(잠수교).csv', '201806_서울시(잠수교).csv', '201807_서울시(잠수교).csv', '201808_서울시(잠수교).csv', '201809_서울시(잠수교).csv', '201810_서울시(잠수교).csv', '201811_서울시(잠수교).csv', '201812_서울시(잠수교).csv', '201901_서울시(잠수교).csv', '201902_서울시(잠수교).csv', '201903_서울시(잠수교).csv', '201904_서울시(잠수교).csv', '201905_서울시(잠수교).csv', '201906_서울시(잠수교).csv', '201907_서울시(잠수교).csv', '201908_서울시(잠수교).csv', '201909_서울시(잠수교).csv', '201910_서울시(잠수교).csv', '201911_서울시(잠수교).csv', '201912_서울시(잠수교).csv', '202001_서울시(잠수교).csv', '202002_서울시(잠수교).csv', '202003_서울시(잠수교).csv', '202004_서울시(잠수교).csv', '202005_서울시(잠수교).csv', '202006_서울시(잠수교).csv', '202007_서울시(잠수교).csv', '202008_서울시(잠수교).csv', '202009_서울시(잠수교).csv', '202010_서울시(잠수교).csv', '202011_서울시(잠수교).csv', '202012_서울시(잠수교).csv', '202101_서울시(잠수교).csv', '202102_서울시(잠수교).csv', '202103_서울시(잠수교).csv', '202104_서울시(잠수교).csv', '202105_서울시(잠수교).csv', '202106_서울시(잠수교).csv', '202107_서울시(잠수교).csv', '202108_서울시(잠수교).csv', '202109_서울시(잠수교).csv', '202110_서울시(잠수교).csv', '202111_서울시(잠수교).csv', '202112_서울시(잠수교).csv', '202201_서울시(잠수교).csv', '202202_서울시(잠수교).csv', '202203_서울시(잠수교).csv', '202204_서울시(잠수교).csv', '202205_서울시(잠수교).csv', '202206_서울시(잠수교).csv', '202207_서울시(잠수교).csv', '202208_서울시(잠수교).csv', '202209_서울시(잠수교).csv', '202210_서울시(잠수교).csv', '202211_서울시(잠수교).csv', '202212_서울시(잠수교).csv']\n"
          ]
        },
        {
          "output_type": "display_data",
          "data": {
            "text/plain": [
              "<Figure size 640x480 with 1 Axes>"
            ],
            "image/png": "[encoded data removed]"
          },
          "metadata": {}
        }
      ]
    }
  ],
  "metadata": {
    "accelerator": "GPU",
    "colab": {
      "gpuType": "T4",
      "provenance": []
    },
    "kernelspec": {
      "display_name": "Python 3 (ipykernel)",
      "language": "python",
      "name": "python3"
    },
    "language_info": {
      "codemirror_mode": {
        "name": "ipython",
        "version": 3
      },
      "file_extension": ".py",
      "mimetype": "text/x-python",
      "name": "python",
      "nbconvert_exporter": "python",
      "pygments_lexer": "ipython3",
      "version": "3.9.13"
    }
  },
  "nbformat": 4,
  "nbformat_minor": 0
}